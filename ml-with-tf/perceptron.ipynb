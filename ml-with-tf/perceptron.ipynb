{
 "cells": [
  {
   "cell_type": "markdown",
   "metadata": {},
   "source": [
    "# Perceptron\n",
    "For a point with coordinates (p,q)(p,q), label yy, and prediction given by the equation $\\hat{y} = step(w_1x_1 + w_2x_2 + b)$ \n",
    "\n",
    "- If the point is correctly classified,  do nothing.\n",
    "- If the point is classified positive, but it has a negative label, subtract  αp,αq, and α from $w_1, w_2,w$, and bb respectively.\n",
    "- If the point is classified negative, but it has a positive label, add $\\alpha p, \\alpha q$ and α to $w_1, w_2$ and b respectively."
   ]
  },
  {
   "cell_type": "code",
   "execution_count": 15,
   "metadata": {},
   "outputs": [
    {
     "name": "stdout",
     "output_type": "stream",
     "text": [
      "[(array([-0.05239463]), array([-2.04919443])), (array([1.23772563]), array([-2.90815949])), (array([-39.47663703]), array([23.57864461])), (array([-13.50379588]), array([6.9383232])), (array([-11.04532818]), array([5.48635011])), (array([-9.98603021]), array([5.00161826])), (array([-9.09871965]), array([4.59558738])), (array([-8.40255162]), array([4.28747795])), (array([-7.79386694]), array([4.01808682])), (array([-7.2147601]), array([3.75179037])), (array([-6.74373497]), array([3.54387842])), (array([-6.32217403]), array([3.35780013])), (array([-5.91530766]), array([3.16978527])), (array([-5.57526865]), array([3.02008878])), (array([-5.26589868]), array([2.88389381])), (array([-4.96487397]), array([2.74410039])), (array([-4.70772687]), array([2.63119489])), (array([-4.47090408]), array([2.52721318])), (array([-4.2520876]), array([2.4311375])), (array([-4.03812197]), array([2.33103038])), (array([-3.85091497]), array([2.24905015])), (array([-3.67642841]), array([2.17264035])), (array([-3.5056491]), array([2.09233819])), (array([-3.35387412]), array([2.02604883])), (array([-3.24233036]), array([1.98062444]))]\n"
     ]
    }
   ],
   "source": [
    "import numpy as np\n",
    "import pandas as pd\n",
    "# Setting the random seed, feel free to change it and see different solutions.\n",
    "np.random.seed(42)\n",
    "\n",
    "def stepFunction(t):\n",
    "    if t >= 0:\n",
    "        return 1\n",
    "    return 0\n",
    "\n",
    "def prediction(X, W, b):\n",
    "    return stepFunction((np.matmul(X,W)+b)[0])\n",
    "\n",
    "# TODO: Fill in the code below to implement the perceptron trick.\n",
    "# The function should receive as inputs the data X, the labels y,\n",
    "# the weights W (as an array), and the bias b,\n",
    "# update the weights and bias W, b, according to the perceptron algorithm,\n",
    "# and return W and b.\n",
    "def perceptronStep(X, y, W, b, learn_rate = 0.01):\n",
    "    # Fill in code\n",
    "    for i in range(len(X)):\n",
    "        y_hat = prediction(X[i],W,b)\n",
    "        # y_i is classified and hence is either zero or 1\n",
    "        # classified negative[0] but has a positive label [1]\n",
    "        if y[i]-y_hat == 1:\n",
    "            W[0] += X[i][0]*learn_rate\n",
    "            W[1] += X[i][1]*learn_rate\n",
    "            b += learn_rate\n",
    "        # classified positive [1] but has a negative label  [0]   \n",
    "        elif y[i]-y_hat == -1:\n",
    "            W[0] -= X[i][0]*learn_rate\n",
    "            W[1] -= X[i][1]*learn_rate\n",
    "            b -= learn_rate\n",
    "        \n",
    "    return W, b\n",
    "    \n",
    "# This function runs the perceptron algorithm repeatedly on the dataset,\n",
    "# and returns a few of the boundary lines obtained in the iterations,\n",
    "# for plotting purposes.\n",
    "# Feel free to play with the learning rate and the num_epochs,\n",
    "# and see your results plotted below.\n",
    "def trainPerceptronAlgorithm(X, y, learn_rate = 0.01, num_epochs = 25):\n",
    "    x_min, x_max = min(X.T[0]), max(X.T[0])\n",
    "    y_min, y_max = min(X.T[1]), max(X.T[1])\n",
    "    W = np.array(np.random.rand(2,1))\n",
    "    b = np.random.rand(1)[0] + x_max\n",
    "    # These are the solution lines that get plotted below.\n",
    "    boundary_lines = []\n",
    "    for i in range(num_epochs):\n",
    "        # In each epoch, we apply the perceptron step.\n",
    "        W, b = perceptronStep(X, y, W, b, learn_rate)\n",
    "        boundary_lines.append((-W[0]/W[1], -b/W[1]))\n",
    "    return boundary_lines\n",
    "\n",
    "data = pd.read_csv(\"data_p.csv\") \n",
    "print(trainPerceptronAlgorithm(data.iloc[:,0:2].to_numpy(),data.iloc[:,2].to_numpy()))"
   ]
  }
 ],
 "metadata": {
  "interpreter": {
   "hash": "d001f9f6bbe9c72b73ec8f1147273505c2b9a823d50002fe074fa723ca99fac9"
  },
  "kernelspec": {
   "display_name": "Python 3.7.10 32-bit ('base': conda)",
   "language": "python",
   "name": "python3"
  },
  "language_info": {
   "codemirror_mode": {
    "name": "ipython",
    "version": 3
   },
   "file_extension": ".py",
   "mimetype": "text/x-python",
   "name": "python",
   "nbconvert_exporter": "python",
   "pygments_lexer": "ipython3",
   "version": "3.7.10"
  },
  "orig_nbformat": 4
 },
 "nbformat": 4,
 "nbformat_minor": 2
}
