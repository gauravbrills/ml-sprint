{
 "cells": [
  {
   "cell_type": "markdown",
   "metadata": {},
   "source": [
    "### Sklearn decision tree classifier\n",
    "Classifier comparison http://scikit-learn.org/stable/auto_examples/classification/plot_classifier_comparison.html "
   ]
  },
  {
   "cell_type": "code",
   "execution_count": 9,
   "metadata": {},
   "outputs": [
    {
     "name": "stdout",
     "output_type": "stream",
     "text": [
      "['male']\n"
     ]
    }
   ],
   "source": [
    "from sklearn import tree\n",
    "# Decision Tree\n",
    "# [height, weight, shoe_size]\n",
    "X = [[181, 80, 44], [177, 70, 43], [160, 60, 38], [154, 54, 37], [166, 65, 40],\n",
    "     [190, 90, 47], [175, 64, 39],\n",
    "     [177, 70, 40], [159, 55, 37], [171, 75, 42], [181, 85, 43]]\n",
    "Y = ['male', 'male', 'female', 'female', 'male', 'male', 'female', 'female',\n",
    "     'female', 'male', 'male']\n",
    "\n",
    "clf = tree.DecisionTreeClassifier()\n",
    "clf = clf.fit(X,Y)\n",
    "\n",
    "prediction = clf.predict([[190,70,43]])\n",
    "print(prediction)\n",
    "\n"
   ]
  },
  {
   "cell_type": "code",
   "execution_count": 13,
   "metadata": {},
   "outputs": [
    {
     "name": "stdout",
     "output_type": "stream",
     "text": [
      "['male']\n",
      "11\n"
     ]
    }
   ],
   "source": [
    "from sklearn.neural_network import MLPClassifier\n",
    "\n",
    "mlpClf = MLPClassifier()\n",
    "mlpClf = mlpClf.fit(X,Y)\n",
    "prediction =mlpClf.predict([[190,70,43]])\n",
    "print(prediction)\n",
    "samples = len(X)\n",
    "print(samples)"
   ]
  },
  {
   "cell_type": "markdown",
   "metadata": {},
   "source": [
    "### Classifier comparision of accuracy \n",
    "https://github.com/llSourcell/gender_classification_challenge"
   ]
  },
  {
   "cell_type": "code",
   "execution_count": 35,
   "metadata": {},
   "outputs": [
    {
     "name": "stdout",
     "output_type": "stream",
     "text": [
      "Score for Classifier Nearest Neighbors is 81.81818181818183.\n",
      "Score for Classifier Linear SVM is 90.9090909090909.\n",
      "Score for Classifier RBF SVM is 100.0.\n",
      "Score for Classifier Gaussian Process is 100.0.\n",
      "Score for Classifier Decision Tree is 100.0.\n",
      "Score for Classifier Random Forest is 90.9090909090909.\n",
      "Score for Classifier Neural Net is 54.54545454545454.\n",
      "Score for Classifier AdaBoost is 100.0.\n",
      "Score for Classifier Naive Bayes is 81.81818181818183.\n",
      "Score for Classifier QDA is 100.0.\n",
      "\n",
      "################################ USING SKLEARN CROSS VALIDAITON ###################################\n",
      "\n",
      "Accuracy for Classifier Nearest Neighbors is 0.8181818181818182.\n",
      "Confusion matrix\n",
      "[[5 2]\n",
      " [0 4]]\n",
      "Accuracy for Classifier Linear SVM is 0.9090909090909091.\n",
      "Confusion matrix\n",
      "[[5 1]\n",
      " [0 5]]\n",
      "Accuracy for Classifier RBF SVM is 1.0.\n",
      "Confusion matrix\n",
      "[[5 0]\n",
      " [0 6]]\n",
      "Accuracy for Classifier Gaussian Process is 1.0.\n",
      "Confusion matrix\n",
      "[[5 0]\n",
      " [0 6]]\n",
      "Accuracy for Classifier Decision Tree is 1.0.\n",
      "Confusion matrix\n",
      "[[5 0]\n",
      " [0 6]]\n",
      "Accuracy for Classifier Random Forest is 1.0.\n",
      "Confusion matrix\n",
      "[[5 0]\n",
      " [0 6]]\n",
      "Accuracy for Classifier Neural Net is 0.45454545454545453.\n",
      "Confusion matrix\n",
      "[[5 6]\n",
      " [0 0]]\n",
      "Accuracy for Classifier AdaBoost is 1.0.\n",
      "Confusion matrix\n",
      "[[5 0]\n",
      " [0 6]]\n",
      "Accuracy for Classifier Naive Bayes is 0.8181818181818182.\n",
      "Confusion matrix\n",
      "[[4 1]\n",
      " [1 5]]\n",
      "Accuracy for Classifier QDA is 1.0.\n",
      "Confusion matrix\n",
      "[[5 0]\n",
      " [0 6]]\n"
     ]
    }
   ],
   "source": [
    "from sklearn.model_selection import train_test_split\n",
    "from sklearn.preprocessing import StandardScaler\n",
    "from sklearn.datasets import make_moons, make_circles, make_classification\n",
    "from sklearn.neural_network import MLPClassifier\n",
    "from sklearn.neighbors import KNeighborsClassifier\n",
    "from sklearn.svm import SVC\n",
    "from sklearn.gaussian_process import GaussianProcessClassifier\n",
    "from sklearn.gaussian_process.kernels import RBF\n",
    "from sklearn.tree import DecisionTreeClassifier\n",
    "from sklearn.ensemble import RandomForestClassifier, AdaBoostClassifier\n",
    "from sklearn.naive_bayes import GaussianNB\n",
    "from sklearn.discriminant_analysis import QuadraticDiscriminantAnalysis\n",
    "\n",
    "\n",
    "names = [\"Nearest Neighbors\", \"Linear SVM\", \"RBF SVM\", \"Gaussian Process\",\n",
    "         \"Decision Tree\", \"Random Forest\", \"Neural Net\", \"AdaBoost\",\n",
    "         \"Naive Bayes\", \"QDA\"]\n",
    "\n",
    "classifiers = [\n",
    "    KNeighborsClassifier(3),\n",
    "    SVC(kernel=\"linear\", C=0.025),\n",
    "    SVC(gamma=2, C=1),\n",
    "    GaussianProcessClassifier(1.0 * RBF(1.0)),\n",
    "    DecisionTreeClassifier(max_depth=5),\n",
    "    RandomForestClassifier(max_depth=5, n_estimators=10, max_features=1),\n",
    "    MLPClassifier(alpha=1),\n",
    "    AdaBoostClassifier(),\n",
    "    GaussianNB(),\n",
    "    QuadraticDiscriminantAnalysis()]\n",
    "\n",
    "\n",
    "for name, clf in zip(names, classifiers):\n",
    "    clf = clf.fit(X, Y)\n",
    "    correctPredictions = 0\n",
    "    for gender, data in zip(Y, X):  \n",
    "        if gender in clf.predict([data]):\n",
    "            correctPredictions+=1\n",
    "    print(f\"Score for Classifier {name} is {(correctPredictions/samples)*100}.\")   \n",
    "    \n",
    "print(\"\\n################################ USING SKLEARN CROSS VALIDAITON ###################################\\n\")\n",
    "\n",
    "## Using from sklearn.cross_validation \n",
    "from sklearn.cross_validation import train_test_split\n",
    "from sklearn.metrics import confusion_matrix\n",
    "\n",
    "for name, clf in zip(names, classifiers):\n",
    "    clf = clf.fit(X, Y)\n",
    "    # Validate the classifier\n",
    "    accuracy = clf.score(X, Y)\n",
    "    print(f\"Accuracy for Classifier {name} is {accuracy}.\")   \n",
    "    # Make a confusion matrix\n",
    "    prediction = clf.predict(X)\n",
    "    cm = confusion_matrix(prediction, Y)\n",
    "    print(\"Confusion matrix\")\n",
    "    print (cm)\n",
    "\n",
    "                    "
   ]
  },
  {
   "cell_type": "code",
   "execution_count": null,
   "metadata": {},
   "outputs": [],
   "source": []
  }
 ],
 "metadata": {
  "kernelspec": {
   "display_name": "Python 3",
   "language": "python",
   "name": "python3"
  },
  "language_info": {
   "codemirror_mode": {
    "name": "ipython",
    "version": 3
   },
   "file_extension": ".py",
   "mimetype": "text/x-python",
   "name": "python",
   "nbconvert_exporter": "python",
   "pygments_lexer": "ipython3",
   "version": "3.7.0"
  }
 },
 "nbformat": 4,
 "nbformat_minor": 2
}
