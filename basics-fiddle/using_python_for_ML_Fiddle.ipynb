{
 "cells": [
  {
   "cell_type": "markdown",
   "metadata": {},
   "source": [
    "### Sklearn decision tree classifier\n",
    "Classifier comparison http://scikit-learn.org/stable/auto_examples/classification/plot_classifier_comparison.html "
   ]
  },
  {
   "cell_type": "code",
   "execution_count": null,
   "metadata": {},
   "outputs": [],
   "source": [
    "from sklearn import tree\n",
    "# Decision Tree\n",
    "# [height, weight, shoe_size]\n",
    "X = [[181, 80, 44], [177, 70, 43], [160, 60, 38], [154, 54, 37], [166, 65, 40],\n",
    "     [190, 90, 47], [175, 64, 39],\n",
    "     [177, 70, 40], [159, 55, 37], [171, 75, 42], [181, 85, 43]]\n",
    "Y = ['male', 'male', 'female', 'female', 'male', 'male', 'female', 'female',\n",
    "     'female', 'male', 'male']\n",
    "\n",
    "clf = tree.DecisionTreeClassifier()\n",
    "clf = clf.fit(X,Y)\n",
    "\n",
    "prediction = clf.predict([[190,70,43]])\n",
    "print(prediction)\n",
    "\n"
   ]
  },
  {
   "cell_type": "code",
   "execution_count": null,
   "metadata": {},
   "outputs": [],
   "source": [
    "from sklearn.neural_network import MLPClassifier\n",
    "\n",
    "mlpClf = MLPClassifier()\n",
    "mlpClf = mlpClf.fit(X,Y)\n",
    "prediction =mlpClf.predict([[190,70,43]])\n",
    "print(prediction)\n",
    "samples = len(X)\n",
    "print(samples)"
   ]
  },
  {
   "cell_type": "markdown",
   "metadata": {},
   "source": [
    "### Classifier comparision of accuracy \n",
    "https://github.com/llSourcell/gender_classification_challenge"
   ]
  },
  {
   "cell_type": "code",
   "execution_count": null,
   "metadata": {},
   "outputs": [],
   "source": [
    "from sklearn.model_selection import train_test_split\n",
    "from sklearn.preprocessing import StandardScaler\n",
    "from sklearn.datasets import make_moons, make_circles, make_classification\n",
    "from sklearn.neural_network import MLPClassifier\n",
    "from sklearn.neighbors import KNeighborsClassifier\n",
    "from sklearn.svm import SVC\n",
    "from sklearn.gaussian_process import GaussianProcessClassifier\n",
    "from sklearn.gaussian_process.kernels import RBF\n",
    "from sklearn.tree import DecisionTreeClassifier\n",
    "from sklearn.ensemble import RandomForestClassifier, AdaBoostClassifier\n",
    "from sklearn.naive_bayes import GaussianNB\n",
    "from sklearn.discriminant_analysis import QuadraticDiscriminantAnalysis\n",
    "from sklearn.linear_model import Perceptron\n",
    "\n",
    "\n",
    "names = [\"Nearest Neighbors\", \"Linear SVM\", \"RBF SVM\", \"Gaussian Process\",\n",
    "         \"Decision Tree\", \"Random Forest\", \"Neural Net\", \"AdaBoost\",\n",
    "         \"Naive Bayes\", \"QDA\",\"Perceptron\"]\n",
    "\n",
    "classifiers = [\n",
    "    KNeighborsClassifier(3),\n",
    "    SVC(kernel=\"linear\", C=0.025),\n",
    "    SVC(gamma=2, C=1),\n",
    "    GaussianProcessClassifier(1.0 * RBF(1.0)),\n",
    "    DecisionTreeClassifier(max_depth=5),\n",
    "    RandomForestClassifier(max_depth=5, n_estimators=10, max_features=1),\n",
    "    MLPClassifier(alpha=1),\n",
    "    AdaBoostClassifier(),\n",
    "    GaussianNB(),\n",
    "    QuadraticDiscriminantAnalysis(),\n",
    "    Perceptron()\n",
    "]\n",
    "\n",
    "\n",
    "for name, clf in zip(names, classifiers):\n",
    "    clf = clf.fit(X, Y)\n",
    "    correctPredictions = 0\n",
    "    for gender, data in zip(Y, X):  \n",
    "        if gender in clf.predict([data]):\n",
    "            correctPredictions+=1\n",
    "    print(f\"Score for Classifier {name} is {(correctPredictions/samples)*100}.\")   \n",
    "    \n",
    "print(\"\\n################################ USING SKLEARN CROSS VALIDAITON ###################################\\n\")\n",
    "\n",
    "## Using from sklearn.cross_validation \n",
    "from sklearn.cross_validation import train_test_split\n",
    "from sklearn.metrics import confusion_matrix\n",
    "from sklearn.metrics import accuracy_score\n",
    "\n",
    "for name, clf in zip(names, classifiers):\n",
    "    clf = clf.fit(X, Y)\n",
    "    # Validate the classifier\n",
    "    accuracy = clf.score(X, Y)\n",
    "    prediction = clf.predict(X)\n",
    "    print(f\"Accuracy for Classifier {name} is {accuracy} score {accuracy_score(Y, prediction) * 100}.\")   \n",
    "    # Make a confusion matrix    \n",
    "    cm = confusion_matrix(prediction, Y)\n",
    "    print(\"Confusion matrix\")\n",
    "    print (cm)\n",
    "\n",
    "                    "
   ]
  },
  {
   "cell_type": "markdown",
   "metadata": {},
   "source": [
    "### twitter_sentiment_challenge\n",
    "https://github.com/llSourcell/twitter_sentiment_challenge/blob/master/demo.py\n",
    "-- Use latest tweepy as per https://github.com/tweepy/tweepy/issues/1088 `pip install git+https://github.com/tweepy/tweepy`"
   ]
  },
  {
   "cell_type": "code",
   "execution_count": 53,
   "metadata": {},
   "outputs": [
    {
     "name": "stdout",
     "output_type": "stream",
     "text": [
      "\n"
     ]
    }
   ],
   "source": [
    "import tweepy\n",
    "from textblob import TextBlob\n",
    "import os\n",
    "\n",
    "# Step 1 - Authenticate\n",
    "consumer_key=  #'CONSUMER_KEY_HERE'\n",
    "consumer_secret=  #'CONSUMER_SECRET_HERE'\n",
    "\n",
    "access_token= #'ACCESS_TOKEN_HERE'\n",
    "access_token_secret= #'ACCESS_TOKEN_SECRET_HERE'\n",
    "\n",
    "auth = tweepy.OAuthHandler(consumer_key, consumer_secret)\n",
    "auth.set_access_token(access_token, access_token_secret)\n",
    "\n",
    "api = tweepy.API(auth)\n",
    "\n",
    "#Step 3 - Retrieve Tweets\n",
    "public_tweets = api.search('Trump')\n",
    "\n",
    "# Function of labelisation of analysis\n",
    "def get_label(analysis, threshold = 0):\n",
    "\tif analysis.sentiment[0]>threshold:\n",
    "\t\treturn 'Positive'\n",
    "\telse:\n",
    "\t\treturn 'Negative'\n",
    "\n",
    "#CHALLENGE - Instead of printing out each tweet, save each Tweet to a CSV file\n",
    "#and label each one as either 'positive' or 'negative', depending on the sentiment \n",
    "#You can decide the sentiment polarity threshold yourself\n",
    "outputFile = open('tweets.csv', 'w')\n",
    "outputFile.write('tweet,sentiment_label\\n')\n",
    "for tweet in public_tweets:\n",
    "    #print(tweet.text)    \n",
    "    #Step 4 Perform Sentiment Analysis on Tweets\n",
    "    analysis = TextBlob(tweet.text)\n",
    "    #print(analysis.sentiment)\n",
    "    analysisDtl = TextBlob(tweet.text)\n",
    "    outputFile.write('%s,%s\\n' % (tweet.text.encode('utf8'), get_label(analysisDtl)))\n",
    "print(\"\")\n",
    "    \n",
    "    "
   ]
  },
  {
   "cell_type": "code",
   "execution_count": null,
   "metadata": {},
   "outputs": [],
   "source": []
  }
 ],
 "metadata": {
  "kernelspec": {
   "display_name": "Python 3",
   "language": "python",
   "name": "python3"
  },
  "language_info": {
   "codemirror_mode": {
    "name": "ipython",
    "version": 3
   },
   "file_extension": ".py",
   "mimetype": "text/x-python",
   "name": "python",
   "nbconvert_exporter": "python",
   "pygments_lexer": "ipython3",
   "version": "3.7.0"
  }
 },
 "nbformat": 4,
 "nbformat_minor": 2
}
